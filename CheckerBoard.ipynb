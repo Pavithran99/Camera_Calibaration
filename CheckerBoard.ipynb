{
 "cells": [
  {
   "cell_type": "code",
   "execution_count": null,
   "metadata": {},
   "outputs": [],
   "source": [
    "import cv2\n",
    "import numpy as np\n",
    "import os"
   ]
  },
  {
   "cell_type": "markdown",
   "metadata": {},
   "source": [
    "### To prepare own images\n",
    "    Press Space to take picture\n",
    "    Press Enter to close the window"
   ]
  },
  {
   "cell_type": "code",
   "execution_count": null,
   "metadata": {},
   "outputs": [],
   "source": [
    "cam=cv2.VideoCapture(0)\n",
    "i=1\n",
    "while True:\n",
    "    hasframe,frame=cam.read()\n",
    "    if hasframe==False:\n",
    "        break    \n",
    "    cv2.imshow('Output',frame)\n",
    "    if cv2.waitKey(1)==13:\n",
    "        break\n",
    "    elif cv2.waitKey(32)==ord(' '):\n",
    "        cv2.imwrite(str(i)+'.jpg',frame)\n",
    "        i+=1\n",
    "        print('Captured')\n",
    "    else:\n",
    "        continue\n",
    "cv2.destroyAllWindows()\n",
    "cam.release()"
   ]
  },
  {
   "cell_type": "code",
   "execution_count": null,
   "metadata": {},
   "outputs": [],
   "source": []
  },
  {
   "cell_type": "code",
   "execution_count": null,
   "metadata": {},
   "outputs": [],
   "source": [
    "size=25   #size of the cube of chess board in mm\n",
    "objp = np.zeros((6*9,3), np.float32)\n",
    "objp[:,:2] = np.mgrid[0:9,0:6].T.reshape(-1,2)*size"
   ]
  },
  {
   "cell_type": "code",
   "execution_count": null,
   "metadata": {},
   "outputs": [],
   "source": [
    "objpoints=[]  # 3d co-ordinate\n",
    "imagepoints=[] # 2d co-ordinate"
   ]
  },
  {
   "cell_type": "code",
   "execution_count": null,
   "metadata": {},
   "outputs": [],
   "source": [
    "def find_corners(image):\n",
    "    gray=cv2.cvtColor(image,cv2.COLOR_BGR2GRAY)\n",
    "    ret,corners=cv2.findChessboardCorners(gray,(9,6),None)\n",
    "    if ret == True:\n",
    "        objpoints.append(objp)\n",
    "        imagepoints.append(corners)\n",
    "        img = cv2.drawChessboardCorners(image, (9,6), corners,ret)\n",
    "        return img\n",
    "    else:\n",
    "        return image"
   ]
  },
  {
   "cell_type": "markdown",
   "metadata": {},
   "source": [
    "### Using images"
   ]
  },
  {
   "cell_type": "code",
   "execution_count": null,
   "metadata": {},
   "outputs": [],
   "source": [
    "im_name=os.listdir('images')\n",
    "path=os.getcwd()\n",
    "for i in im_name:\n",
    "    path1=os.path.join(path,'images',i)\n",
    "    image=cv2.imread(path1)\n",
    "    im=find_corners(image)\n",
    "    cv2.imshow('Output',image)\n",
    "    cv2.waitKey(0)\n",
    "cv2.destroyAllWindows()"
   ]
  },
  {
   "cell_type": "markdown",
   "metadata": {},
   "source": [
    "### Using Video"
   ]
  },
  {
   "cell_type": "code",
   "execution_count": null,
   "metadata": {},
   "outputs": [],
   "source": [
    "cam=cv2.VideoCapture(0)\n",
    "while True:\n",
    "    hasframe,frame=cam.read()\n",
    "    if hasframe==False:\n",
    "        break    \n",
    "    im=find_corners(frame)\n",
    "    cv2.imshow('Output',im)\n",
    "    if cv2.waitKey(1)==13:\n",
    "        break\n",
    "cv2.destroyAllWindows()\n",
    "cam.release()"
   ]
  },
  {
   "cell_type": "markdown",
   "metadata": {},
   "source": [
    "### To Find Camera Matrix, Distortion Coefficient,  Rotational and transverse Vector"
   ]
  },
  {
   "cell_type": "code",
   "execution_count": null,
   "metadata": {
    "scrolled": true
   },
   "outputs": [],
   "source": [
    "im_shape=(640,480)\n",
    "ret, mtx, dist, rvecs, tvecs = cv2.calibrateCamera(objpoints, imagepoints,im_shape,None,None)"
   ]
  },
  {
   "cell_type": "markdown",
   "metadata": {},
   "source": [
    "### To save "
   ]
  },
  {
   "cell_type": "code",
   "execution_count": null,
   "metadata": {},
   "outputs": [],
   "source": [
    "np.savez('camera_matrix',mtx=mtx,dist=dist)"
   ]
  }
 ],
 "metadata": {
  "kernelspec": {
   "display_name": "Python 3",
   "language": "python",
   "name": "python3"
  },
  "language_info": {
   "codemirror_mode": {
    "name": "ipython",
    "version": 3
   },
   "file_extension": ".py",
   "mimetype": "text/x-python",
   "name": "python",
   "nbconvert_exporter": "python",
   "pygments_lexer": "ipython3",
   "version": "3.7.6"
  }
 },
 "nbformat": 4,
 "nbformat_minor": 4
}
